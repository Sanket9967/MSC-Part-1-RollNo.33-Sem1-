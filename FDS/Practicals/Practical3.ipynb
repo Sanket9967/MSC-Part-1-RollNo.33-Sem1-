{
 "cells": [
  {
   "cell_type": "markdown",
   "id": "0672b133",
   "metadata": {},
   "source": [
    "# 3.Probability"
   ]
  },
  {
   "cell_type": "markdown",
   "id": "b467f878",
   "metadata": {},
   "source": [
    "### Q. What is the probability of getting 3 when a fair, six-sided die is rolled?\n",
    "#### Solution:"
   ]
  },
  {
   "cell_type": "code",
   "execution_count": 2,
   "id": "a495f93e",
   "metadata": {},
   "outputs": [
    {
     "name": "stdout",
     "output_type": "stream",
     "text": [
      "The probability of getting 3 on a single roll of a six sided die is 0.16666666666666666 or 16.7%\n"
     ]
    }
   ],
   "source": [
    "# Let,\n",
    "# A : Getting 3 when a fair, six-sided die is rolled\n",
    "# S : Sample space generated when a fair, six-sided die is rolled\n",
    "\n",
    "A = {3}\n",
    "S = {1, 2, 3, 4, 5, 6}\n",
    "\n",
    "# Probability of event A (represented here as P_A) is given by:\n",
    "# P(A) = No. of elements in set A / No. of elements in set S\n",
    "# i.e.\n",
    "# P(A) = n(A) / n(S)\n",
    "\n",
    "P_A = len(A) / len(S)\n",
    "print(f\"The probability of getting 3 on a single roll of a six sided die is {P_A} or {round(P_A, 3) * 100}%\")"
   ]
  },
  {
   "cell_type": "markdown",
   "id": "b62c3182",
   "metadata": {},
   "source": [
    "### Q. Calculate the probability of atleast getting one head when a coin is tossed thrice.\n",
    "#### Solution:"
   ]
  },
  {
   "cell_type": "code",
   "execution_count": 3,
   "id": "aac23889",
   "metadata": {},
   "outputs": [
    {
     "name": "stdout",
     "output_type": "stream",
     "text": [
      "The probability of getting atleast one head when a fair coin is tossed thrice is 0.875 or 87.5%\n"
     ]
    }
   ],
   "source": [
    "# Let,\n",
    "# A : Getting atleast one head when a coin is tossed thrice\n",
    "# S : Sample space generated when a fair coin is tossed thrice\n",
    "\n",
    "S = {'HHH', 'HHT', 'HTH', 'THH', 'HTT', 'THT', 'TTH', 'TTT'}\n",
    "A = {'HHH', 'HHT', 'HTH', 'THH', 'HTT', 'THT', 'TTH'}\n",
    "\n",
    "# Probability of event A (represented here as P_A) is given by:\n",
    "# P(A) = No. of elements in set A / No. of elements in set S\n",
    "# i.e.\n",
    "# P(A) = n(A) / n(S)\n",
    "\n",
    "P_A = len(A) / len(S)\n",
    "print(f\"The probability of getting atleast one head when a fair coin is tossed thrice is {P_A} or {round(P_A, 3) * 100}%\")\n"
   ]
  },
  {
   "cell_type": "markdown",
   "id": "4478825f",
   "metadata": {},
   "source": [
    "### Q. A glass jar contains 5 red, 3 blue and and 2 green jelly beans. If a jelly bean is chosen at random from the jar, what is the probability that it is not blue?\n",
    "#### Solution::"
   ]
  },
  {
   "cell_type": "code",
   "execution_count": 4,
   "id": "33541d35",
   "metadata": {},
   "outputs": [
    {
     "name": "stdout",
     "output_type": "stream",
     "text": [
      "The probability of not getting a blue jellybean from the jar is 0.7 or 70.0%\n"
     ]
    }
   ],
   "source": [
    "# Let,\n",
    "# A : Not getting a blue jellybean  when a jellybean is chosen from the jar\n",
    "# S : Sample space generated when a jellybean is chosen from the jar\n",
    "# and R1, R2, R3, R4, R5, B1, B2, B3, G1 and G2 represent the five red, 3 blue and 2 green jellybeans\n",
    "# respectively.\n",
    "\n",
    "A = {'R1', 'R2', 'R3', 'R4', 'R5', 'G1', 'G2'}\n",
    "S = {'R1', 'R2', 'R3', 'R4', 'R5', 'B1', 'B2', 'B3', 'G1', 'G2'}\n",
    "\n",
    "# Probability of event A (represented here as P_A) is given by:\n",
    "# P(A) = No. of elements in set A / No. of elements in set S\n",
    "# i.e.\n",
    "# P(A) = n(A) / n(S)\n",
    "\n",
    "P_A = len(A) / len(S)\n",
    "print(f\"The probability of not getting a blue jellybean from the jar is {P_A} or {round(P_A, 3) * 100}%\")"
   ]
  },
  {
   "cell_type": "markdown",
   "id": "1eb488ad",
   "metadata": {},
   "source": [
    "# Independent and Dependent events"
   ]
  },
  {
   "cell_type": "markdown",
   "id": "cbeac46c",
   "metadata": {},
   "source": [
    "### Q. If the probability that a person A will be alive after 20 years is 0.7 and the probability that person B will be alive after 20 years is 0.5, what is the probability that they will both be alive after 20 years?\n",
    "#### Solution:"
   ]
  },
  {
   "cell_type": "code",
   "execution_count": 5,
   "id": "14af99e4",
   "metadata": {},
   "outputs": [
    {
     "name": "stdout",
     "output_type": "stream",
     "text": [
      "Probability that both A and B will be alive after 20 years is 0.35 or 35.0%\n"
     ]
    }
   ],
   "source": [
    "# Let,\n",
    "# A : Person A is alive after 20 yrs\n",
    "# B : Person B is alive after 20 yrs\n",
    "\n",
    "# Given:\n",
    "# P(A) = 0.7\n",
    "# P(B) = 0.5\n",
    "P_A = 0.7\n",
    "P_B = 0.5\n",
    "\n",
    "# As the lives of A and B do not depend on each other, we conclude that events A and B are independent\n",
    "# Required probability is P(A n B) = P(A) * P(B)\n",
    "\n",
    "P_A_and_B = P_A * P_B\n",
    "print(f\"Probability that both A and B will be alive after 20 years is {P_A_and_B} or {round(P_A_and_B, 3) * 100}%\")"
   ]
  },
  {
   "cell_type": "markdown",
   "id": "3469b649",
   "metadata": {},
   "source": [
    "## Q. A fair die is tossed twice. Find the probability of getting a 4 or 5 on first toss and a 1, 2 or 3 in the second toss.\n",
    "#### Solution:"
   ]
  },
  {
   "cell_type": "code",
   "execution_count": 7,
   "id": "e1c34910",
   "metadata": {},
   "outputs": [
    {
     "name": "stdout",
     "output_type": "stream",
     "text": [
      "Probability that 4 or 5 will appear on first roll and 1, 2 or 3 will appear on second roll is  0.1111111111111111 or 11.1%\n"
     ]
    }
   ],
   "source": [
    "# Let,\n",
    "# A : Getting a 4 or 5 on a roll\n",
    "# B : Getting a 1, 2 or 3 on a roll\n",
    "# S : Sample space generated when a die is rolled once.\n",
    "\n",
    "A = {4, 5}\n",
    "B = {1, 2, 3}\n",
    "S = {1, 2, 3, 4, 5, 6}\n",
    "\n",
    "# Probability of event A (represented here as P_A) is given by:\n",
    "# P(A) = No. of elements in set A / No. of elements in set S\n",
    "# i.e.\n",
    "# P(A) = n(A) / n(S)\n",
    "P_A = len(A) / len(S)\n",
    "P_B = len(A) / len(S)\n",
    "\n",
    "# Required probability is P(A and B)\n",
    "P_A_and_B = P_A * P_B\n",
    "print(f\"Probability that 4 or 5 will appear on first roll and 1, 2 or 3 will appear on second roll is \", end = \" \")\n",
    "print(f\"{P_A_and_B} or {round(P_A_and_B, 3) * 100}%\")"
   ]
  },
  {
   "cell_type": "markdown",
   "id": "351f5aae",
   "metadata": {},
   "source": [
    "### Q. A bag contains 5 white marbles, 3 black marbles and 2 green marbles. In each draw, a marble is drawn from the bag and not replaced. In three draws, find the probability of obtaining white, black and green in that order.\n",
    "#### Solution:"
   ]
  },
  {
   "cell_type": "code",
   "execution_count": 9,
   "id": "7748b065",
   "metadata": {},
   "outputs": [
    {
     "name": "stdout",
     "output_type": "stream",
     "text": [
      "Probability that the marbles will come out in the order white, black and green is  0.041666666666666664 or 4.2%\n"
     ]
    }
   ],
   "source": [
    "# Let,\n",
    "# A : White marble is drawn\n",
    "# B : Black marble is drawn after event A\n",
    "# C : Green marble is drawn after event B\n",
    "# S : Total marbles after each event (currently 5 + 3 + 2 i.e. 10)\n",
    "\n",
    "n_A = 5\n",
    "n_B = 3\n",
    "n_C = 2\n",
    "n_S = 10\n",
    "\n",
    "# Probability of event A (represented here as P_A) is given by:\n",
    "# P(A) = No. of elements in set A / No. of elements in set S\n",
    "# i.e.\n",
    "# P(A) = n(A) / n(S)\n",
    "\n",
    "P_A = n_A / n_S\n",
    "\n",
    "# As the drawn marble is not replaced, the number of marbles in the bag reduces by 1\n",
    "n_S -= 1\n",
    "P_B = n_B / n_S\n",
    "\n",
    "# As the drawn marble is not replaced, the number of marbles in the bag reduces by 1\n",
    "n_S -= 1\n",
    "P_C = n_C / n_S\n",
    "\n",
    "# Required probability is P(A and B and C) = P(A) * P(B) * P(C)\n",
    "P_A_and_B_and_C = P_A * P_B * P_C\n",
    "print(f\"Probability that the marbles will come out in the order white, black and green is \", end = \" \")\n",
    "print(f\"{P_A_and_B_and_C} or {round(P_A_and_B_and_C, 3) * 100}%\")\n"
   ]
  },
  {
   "cell_type": "markdown",
   "id": "e372b734",
   "metadata": {},
   "source": [
    "### Q. Find the probability of drawing a heart or a club from a shuffled deck of cards.\n",
    "#### Solution:"
   ]
  },
  {
   "cell_type": "code",
   "execution_count": 10,
   "id": "438cf5fc",
   "metadata": {},
   "outputs": [
    {
     "name": "stdout",
     "output_type": "stream",
     "text": [
      "Probability of getting a heart or a club card is 0.5 or 50.0%\n"
     ]
    }
   ],
   "source": [
    "# Let,\n",
    "# A : Drawing a heart card from the deck\n",
    "# B : Drawing a club card from the deck\n",
    "# S : Sample space generated from a deck of 52 cards\n",
    "\n",
    "# We know that there are exacty 13 heart and 13 club cards in a deck of 52 cards\n",
    "n_A = 13\n",
    "n_B = 13\n",
    "n_S = 52\n",
    "\n",
    "# Probability of event A (represented here as P_A) is given by:\n",
    "# P(A) = No. of elements in set A / No. of elements in set S\n",
    "# i.e.\n",
    "# P(A) = n(A) / n(S)\n",
    "P_A = n_A / n_S\n",
    "P_B = n_B / n_S\n",
    "\n",
    "# Required probability is P(A or B) = P(A) + P(B)\n",
    "P_A_or_B = P_A + P_B\n",
    "print(f\"Probability of getting a heart or a club card is {P_A_or_B} or {round(P_A_or_B, 3) * 100}%\")\n"
   ]
  },
  {
   "cell_type": "markdown",
   "id": "f6bd2935",
   "metadata": {},
   "source": [
    "### Q. Find the probability of drawing an ace, a king or a queen from a deck of cards\n",
    "#### Solution:"
   ]
  },
  {
   "cell_type": "code",
   "execution_count": 11,
   "id": "5a55b065",
   "metadata": {},
   "outputs": [
    {
     "name": "stdout",
     "output_type": "stream",
     "text": [
      "Probability of getting an ace, king or queen card is 0.23076923076923078 or 23.1%\n"
     ]
    }
   ],
   "source": [
    "# Let,\n",
    "# A : Drawing an ace from the deck\n",
    "# B : Drawing a king from the deck\n",
    "# C : Drawing a queen from the deck\n",
    "# S : Sample space generated from a deck of 52 cards\n",
    "\n",
    "# We know that there are exacty 4 aces, 4 kings and 4 queen cards in a deck of 52 cards\n",
    "n_A = 4\n",
    "n_B = 4\n",
    "n_C = 4\n",
    "n_S = 52\n",
    "\n",
    "# Probability of event A (represented here as P_A) is given by:\n",
    "# P(A) = No. of elements in set A / No. of elements in set S\n",
    "# i.e.\n",
    "# P(A) = n(A) / n(S)\n",
    "P_A = n_A / n_S\n",
    "P_B = n_B / n_S\n",
    "P_C = n_C / n_S\n",
    "\n",
    "# Required probability is P(A or B or C) = P(A) + P(B) + P(C)\n",
    "P_A_or_B_or_C = P_A + P_B + P_C\n",
    "print(f\"Probability of getting an ace, king or queen card is {P_A_or_B_or_C} or {round(P_A_or_B_or_C, 3) * 100}%\")"
   ]
  },
  {
   "cell_type": "markdown",
   "id": "220ecff3",
   "metadata": {},
   "source": [
    "### Q. Find the probability of drawing an heart or an ace from a deck of cards.\n",
    "#### Solution:"
   ]
  },
  {
   "cell_type": "code",
   "execution_count": 12,
   "id": "fa1eabd5",
   "metadata": {},
   "outputs": [
    {
     "name": "stdout",
     "output_type": "stream",
     "text": [
      "Probability of getting a heart or ace card is 0.3076923076923077 or 30.8%\n"
     ]
    }
   ],
   "source": [
    "# Let,\n",
    "# A : Drawing a heart card from the deck\n",
    "# B : Drawing a ace card from the deck\n",
    "# S : Sample space generated from a deck of 52 cards\n",
    "\n",
    "# We know that there are exacty 13 hearts and 4 aces in a deck of 52 cards with one common card (i.e. the ace of hearts)\n",
    "n_A = 13\n",
    "n_B = 4\n",
    "n_A_n_B = 1\n",
    "n_S = 52\n",
    "\n",
    "# Probability of event A (represented here as P_A) is given by:\n",
    "# P(A) = No. of elements in set A / No. of elements in set S\n",
    "# i.e.\n",
    "# P(A) = n(A) / n(S)\n",
    "P_A = n_A / n_S\n",
    "P_B = n_B / n_S\n",
    "P_A_n_B = n_A_n_B / n_S\n",
    "\n",
    "# Required probability is P(A U B) = P(A) + P(B) - P(A n B)\n",
    "P_A_U_B = P_A + P_B - P_A_n_B\n",
    "print(f\"Probability of getting a heart or ace card is {P_A_U_B} or {round(P_A_U_B, 3) * 100}%\")"
   ]
  },
  {
   "cell_type": "markdown",
   "id": "753fcef6",
   "metadata": {},
   "source": [
    "## Complementary Events"
   ]
  },
  {
   "cell_type": "markdown",
   "id": "4300f8b5",
   "metadata": {},
   "source": [
    "### Q. What is the probability of not getting 5 when a fair die is thrown?\n",
    "#### Solution:"
   ]
  },
  {
   "cell_type": "code",
   "execution_count": 13,
   "id": "c9ef5037",
   "metadata": {},
   "outputs": [
    {
     "name": "stdout",
     "output_type": "stream",
     "text": [
      "The probability of not getting 5 on a single roll of a six sided die is 0.8333333333333334 or 83.3%\n"
     ]
    }
   ],
   "source": [
    "# Let,\n",
    "# A : Getting 5 when a fair, six-sided die is rolled\n",
    "# S : Sample space generated when a fair, six-sided die is rolled\n",
    "\n",
    "A = {5}\n",
    "S = {1, 2, 3, 4, 5, 6}\n",
    "\n",
    "# Probability of event A (represented here as P_A) is given by:\n",
    "# P(A) = No. of elements in set A / No. of elements in set S\n",
    "# i.e.\n",
    "# P(A) = n(A) / n(S)\n",
    "\n",
    "P_A = len(A) / len(S)\n",
    "\n",
    "# Required probability is P(A') where A' is the complement of event A (represented in code as P_A_c)\n",
    "P_A_c = 1 - P_A\n",
    "print(f\"The probability of not getting 5 on a single roll of a six sided die is {P_A_c} or {round(P_A_c, 3) * 100}%\")"
   ]
  },
  {
   "cell_type": "markdown",
   "id": "42d5e5aa",
   "metadata": {},
   "source": [
    "## Conditional Probability"
   ]
  },
  {
   "cell_type": "markdown",
   "id": "19a65d38",
   "metadata": {},
   "source": [
    "### Q. Determine the probability of a student getting 80% or more marks given that he/she has been absent for more than 10 classes. Use the student-mat.csv file for the data. (Consider subject G3)\n",
    "#### Prerequisites:\n",
    "\n",
    "#### Load the CSV file and convert it into a dataframe. Check whether the dataframe is created by viewing few rows."
   ]
  },
  {
   "cell_type": "code",
   "execution_count": 16,
   "id": "1f5167cb",
   "metadata": {},
   "outputs": [
    {
     "data": {
      "text/html": [
       "<div>\n",
       "<style scoped>\n",
       "    .dataframe tbody tr th:only-of-type {\n",
       "        vertical-align: middle;\n",
       "    }\n",
       "\n",
       "    .dataframe tbody tr th {\n",
       "        vertical-align: top;\n",
       "    }\n",
       "\n",
       "    .dataframe thead th {\n",
       "        text-align: right;\n",
       "    }\n",
       "</style>\n",
       "<table border=\"1\" class=\"dataframe\">\n",
       "  <thead>\n",
       "    <tr style=\"text-align: right;\">\n",
       "      <th></th>\n",
       "      <th>school</th>\n",
       "      <th>sex</th>\n",
       "      <th>age</th>\n",
       "      <th>address</th>\n",
       "      <th>famsize</th>\n",
       "      <th>Pstatus</th>\n",
       "      <th>Medu</th>\n",
       "      <th>Fedu</th>\n",
       "      <th>Mjob</th>\n",
       "      <th>Fjob</th>\n",
       "      <th>...</th>\n",
       "      <th>famrel</th>\n",
       "      <th>freetime</th>\n",
       "      <th>goout</th>\n",
       "      <th>Dalc</th>\n",
       "      <th>Walc</th>\n",
       "      <th>health</th>\n",
       "      <th>absences</th>\n",
       "      <th>G1</th>\n",
       "      <th>G2</th>\n",
       "      <th>G3</th>\n",
       "    </tr>\n",
       "  </thead>\n",
       "  <tbody>\n",
       "    <tr>\n",
       "      <th>0</th>\n",
       "      <td>GP</td>\n",
       "      <td>F</td>\n",
       "      <td>18</td>\n",
       "      <td>U</td>\n",
       "      <td>GT3</td>\n",
       "      <td>A</td>\n",
       "      <td>4</td>\n",
       "      <td>4</td>\n",
       "      <td>at_home</td>\n",
       "      <td>teacher</td>\n",
       "      <td>...</td>\n",
       "      <td>4</td>\n",
       "      <td>3</td>\n",
       "      <td>4</td>\n",
       "      <td>1</td>\n",
       "      <td>1</td>\n",
       "      <td>3</td>\n",
       "      <td>6</td>\n",
       "      <td>5</td>\n",
       "      <td>6</td>\n",
       "      <td>6</td>\n",
       "    </tr>\n",
       "    <tr>\n",
       "      <th>1</th>\n",
       "      <td>GP</td>\n",
       "      <td>F</td>\n",
       "      <td>17</td>\n",
       "      <td>U</td>\n",
       "      <td>GT3</td>\n",
       "      <td>T</td>\n",
       "      <td>1</td>\n",
       "      <td>1</td>\n",
       "      <td>at_home</td>\n",
       "      <td>other</td>\n",
       "      <td>...</td>\n",
       "      <td>5</td>\n",
       "      <td>3</td>\n",
       "      <td>3</td>\n",
       "      <td>1</td>\n",
       "      <td>1</td>\n",
       "      <td>3</td>\n",
       "      <td>4</td>\n",
       "      <td>5</td>\n",
       "      <td>5</td>\n",
       "      <td>6</td>\n",
       "    </tr>\n",
       "    <tr>\n",
       "      <th>2</th>\n",
       "      <td>GP</td>\n",
       "      <td>F</td>\n",
       "      <td>15</td>\n",
       "      <td>U</td>\n",
       "      <td>LE3</td>\n",
       "      <td>T</td>\n",
       "      <td>1</td>\n",
       "      <td>1</td>\n",
       "      <td>at_home</td>\n",
       "      <td>other</td>\n",
       "      <td>...</td>\n",
       "      <td>4</td>\n",
       "      <td>3</td>\n",
       "      <td>2</td>\n",
       "      <td>2</td>\n",
       "      <td>3</td>\n",
       "      <td>3</td>\n",
       "      <td>10</td>\n",
       "      <td>7</td>\n",
       "      <td>8</td>\n",
       "      <td>10</td>\n",
       "    </tr>\n",
       "  </tbody>\n",
       "</table>\n",
       "<p>3 rows × 33 columns</p>\n",
       "</div>"
      ],
      "text/plain": [
       "  school sex  age address famsize Pstatus  Medu  Fedu     Mjob     Fjob  ...  \\\n",
       "0     GP   F   18       U     GT3       A     4     4  at_home  teacher  ...   \n",
       "1     GP   F   17       U     GT3       T     1     1  at_home    other  ...   \n",
       "2     GP   F   15       U     LE3       T     1     1  at_home    other  ...   \n",
       "\n",
       "  famrel freetime  goout  Dalc  Walc health absences G1 G2  G3  \n",
       "0      4        3      4     1     1      3        6  5  6   6  \n",
       "1      5        3      3     1     1      3        4  5  5   6  \n",
       "2      4        3      2     2     3      3       10  7  8  10  \n",
       "\n",
       "[3 rows x 33 columns]"
      ]
     },
     "execution_count": 16,
     "metadata": {},
     "output_type": "execute_result"
    }
   ],
   "source": [
    "import pandas as pd\n",
    "import numpy as np\n",
    "\n",
    "data_frame = pd.read_csv(\"fds_datasets/student-mat.csv\")\n",
    "data_frame.head(3)"
   ]
  },
  {
   "cell_type": "code",
   "execution_count": null,
   "id": "f7e8a59e",
   "metadata": {},
   "outputs": [],
   "source": []
  }
 ],
 "metadata": {
  "kernelspec": {
   "display_name": "Python 3 (ipykernel)",
   "language": "python",
   "name": "python3"
  },
  "language_info": {
   "codemirror_mode": {
    "name": "ipython",
    "version": 3
   },
   "file_extension": ".py",
   "mimetype": "text/x-python",
   "name": "python",
   "nbconvert_exporter": "python",
   "pygments_lexer": "ipython3",
   "version": "3.9.7"
  }
 },
 "nbformat": 4,
 "nbformat_minor": 5
}
